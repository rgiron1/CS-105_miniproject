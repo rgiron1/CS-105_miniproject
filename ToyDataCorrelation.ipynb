{
 "cells": [
  {
   "cell_type": "code",
   "execution_count": 15,
   "id": "014ac2fc-31ca-4408-b5e3-4bb87054d58b",
   "metadata": {},
   "outputs": [],
   "source": [
    "import pandas as pd\n",
    "import numpy as np\n",
    "from scipy.stats import chi2_contingency"
   ]
  },
  {
   "cell_type": "code",
   "execution_count": 16,
   "id": "0cdbadf2-257b-480f-942a-a0429647c96a",
   "metadata": {},
   "outputs": [
    {
     "data": {
      "text/html": [
       "<div>\n",
       "<style scoped>\n",
       "    .dataframe tbody tr th:only-of-type {\n",
       "        vertical-align: middle;\n",
       "    }\n",
       "\n",
       "    .dataframe tbody tr th {\n",
       "        vertical-align: top;\n",
       "    }\n",
       "\n",
       "    .dataframe thead th {\n",
       "        text-align: right;\n",
       "    }\n",
       "</style>\n",
       "<table border=\"1\" class=\"dataframe\">\n",
       "  <thead>\n",
       "    <tr style=\"text-align: right;\">\n",
       "      <th></th>\n",
       "      <th>Hands-on activities (worksheets, in-person labs, class assignments) help with my learning.</th>\n",
       "      <th>Overall, I prefer in-person vs. online.</th>\n",
       "    </tr>\n",
       "  </thead>\n",
       "  <tbody>\n",
       "    <tr>\n",
       "      <th>0</th>\n",
       "      <td>5</td>\n",
       "      <td>1</td>\n",
       "    </tr>\n",
       "    <tr>\n",
       "      <th>1</th>\n",
       "      <td>4</td>\n",
       "      <td>5</td>\n",
       "    </tr>\n",
       "    <tr>\n",
       "      <th>2</th>\n",
       "      <td>5</td>\n",
       "      <td>4</td>\n",
       "    </tr>\n",
       "  </tbody>\n",
       "</table>\n",
       "</div>"
      ],
      "text/plain": [
       "   Hands-on activities (worksheets, in-person labs, class assignments) help with my learning.  \\\n",
       "0                                                  5                                            \n",
       "1                                                  4                                            \n",
       "2                                                  5                                            \n",
       "\n",
       "   Overall, I prefer in-person vs. online.  \n",
       "0                                        1  \n",
       "1                                        5  \n",
       "2                                        4  "
      ]
     },
     "execution_count": 16,
     "metadata": {},
     "output_type": "execute_result"
    }
   ],
   "source": [
    "df = pd.read_csv(\"Toy data.csv\")\n",
    "df"
   ]
  },
  {
   "cell_type": "code",
   "execution_count": 17,
   "id": "e55ae8a0-7200-4859-81d1-cfa6a8ecc2dd",
   "metadata": {},
   "outputs": [
    {
     "name": "stdout",
     "output_type": "stream",
     "text": [
      "Correlation between Visual and Prefering online or inperson is:  -0.6933752452815363\n"
     ]
    }
   ],
   "source": [
    "print(\"Correlation between Visual and Prefering online or inperson is: \",df[\"Overall, I prefer in-person vs. online.\"].corr(df[\"Hands-on activities (worksheets, in-person labs, class assignments) help with my learning.\"],method = 'pearson' ) )"
   ]
  },
  {
   "cell_type": "code",
   "execution_count": 19,
   "id": "27dab5f9-b34d-473e-a4e9-8bf68c8d1098",
   "metadata": {},
   "outputs": [
    {
     "name": "stdout",
     "output_type": "stream",
     "text": [
      "chi square value:  2.2857142857142856\n",
      "p value:  0.3189065573239704\n",
      "degree of freedom:  2\n",
      "expected frequencies when hands on learning and school preferrence is independent:  [[3.5  2.5 ]\n",
      " [5.25 3.75]\n",
      " [5.25 3.75]]\n",
      "for 2 degree of freedom, the chi-square valued needed to reject the hypothesis at the 0.001 significance level:\n"
     ]
    },
    {
     "data": {
      "text/plain": [
       "13.815510557964274"
      ]
     },
     "execution_count": 19,
     "metadata": {},
     "output_type": "execute_result"
    }
   ],
   "source": [
    "data = df#unChangedDf[\"Overall, I prefer in-person vs. online.\",\"Hands-on activities (worksheets, in-person labs, class assignments) help with my learning.\",\"Visual materials (graphs, tables, pictures, etc.) help with my learning.\"]\n",
    "chi, p, dfree, expected = chi2_contingency(data)\n",
    "print(\"chi square value: \" ,chi)\n",
    "print(\"p value: \", p)\n",
    "print(\"degree of freedom: \", dfree)\n",
    "print(\"expected frequencies when hands on learning and school preferrence is independent: \", expected)\n",
    "from scipy.stats import chi2\n",
    "print(\"for 2 degree of freedom, the chi-square valued needed to reject the hypothesis at the 0.001 significance level:\")\n",
    "chi2.ppf(0.999, 2)"
   ]
  },
  {
   "cell_type": "code",
   "execution_count": null,
   "id": "dd984ebc-d99f-4a2b-9cab-7bef3836e111",
   "metadata": {},
   "outputs": [],
   "source": []
  }
 ],
 "metadata": {
  "kernelspec": {
   "display_name": "Python 3 (ipykernel)",
   "language": "python",
   "name": "python3"
  },
  "language_info": {
   "codemirror_mode": {
    "name": "ipython",
    "version": 3
   },
   "file_extension": ".py",
   "mimetype": "text/x-python",
   "name": "python",
   "nbconvert_exporter": "python",
   "pygments_lexer": "ipython3",
   "version": "3.9.7"
  }
 },
 "nbformat": 4,
 "nbformat_minor": 5
}
